{
 "cells": [
  {
   "attachments": {},
   "cell_type": "markdown",
   "metadata": {},
   "source": [
    "# Big-O Cheatsheet"
   ]
  },
  {
   "attachments": {},
   "cell_type": "markdown",
   "metadata": {},
   "source": [
    "### Big-Os\n",
    "\n",
    "Keep in mind, when you are iterating through half of a collection, it is still `O(n)`.\n",
    "\n",
    "**Two separate collections: `O(a + b)`\n",
    "\n",
    "- **O(1)** Constant Time (no loops)\n",
    "- **O(log N)** Logarithmic - searching algorithms for `log n` if they are sorted (Binary Search)\n",
    "- **O(n)** Linear - for loops, while loops through `n` items\n",
    "- **O(n log(n))** Log Linear - sorting operations\n",
    "- **O(n^2)** Quadratic - every element in a collection needs to be compared to every other element (e.g. two nested loops)\n",
    "- **O(2^n)** Exponential - recursive algorithms that solves a problem of size `n`\n",
    "- **O(n!)** Factorial - adding a loop for every element\n",
    "\n",
    "### What Can Cause Time in a Function?\n",
    "\n",
    "- Operations (+, -, /, *)\n",
    "- Comparisons (>, <, ==)\n",
    "- Looping (for, while)\n",
    "- Outside Function (call `function()`)\n",
    "\n",
    "### Rule Book\n",
    "\n",
    "1. Always assume the worst case scenario\n",
    "2. Remove constants\n",
    "3. Different inputs should have different variables: `O(a + b)`\n",
    "    - A and B arrays nested would be: `O(a * b)`\n",
    "\n",
    "- + for steps in order\n",
    "- * for nested steps\n",
    "4. Drop non-dominant items\n",
    "\n",
    "### What Causes Space Complexity?\n",
    "- Variables\n",
    "- Data Structures\n",
    "- Function Call\n",
    "- Allocations"
   ]
  }
 ],
 "metadata": {
  "kernelspec": {
   "display_name": "Python 3",
   "language": "python",
   "name": "python3"
  },
  "language_info": {
   "name": "python",
   "version": "3.10.6"
  },
  "orig_nbformat": 4,
  "vscode": {
   "interpreter": {
    "hash": "51c7269ed29b4e88c3240d25a87d265b5a86ff1e3a5a3d8fa161d871dd293899"
   }
  }
 },
 "nbformat": 4,
 "nbformat_minor": 2
}
